{
 "cells": [
  {
   "cell_type": "code",
   "execution_count": null,
   "id": "073fe761",
   "metadata": {},
   "outputs": [],
   "source": [
    "Factorial of the number"
   ]
  },
  {
   "cell_type": "code",
   "execution_count": 1,
   "id": "bda48703",
   "metadata": {},
   "outputs": [
    {
     "name": "stdout",
     "output_type": "stream",
     "text": [
      "enter the number: 2\n",
      "The factorial of number is : 2\n"
     ]
    }
   ],
   "source": [
    "n = int (input(\"enter the number: \"))\n",
    "fact =1\n",
    "for i in range (1, n+1):\n",
    "       fact = fact * i\n",
    "print (\"The factorial of number is :\",fact)"
   ]
  },
  {
   "cell_type": "code",
   "execution_count": null,
   "id": "126197e2",
   "metadata": {},
   "outputs": [],
   "source": [
    " prime or composite"
   ]
  },
  {
   "cell_type": "code",
   "execution_count": 2,
   "id": "8ea64791",
   "metadata": {},
   "outputs": [
    {
     "name": "stdout",
     "output_type": "stream",
     "text": [
      "enter a number:7\n",
      "7 is a prime number\n"
     ]
    }
   ],
   "source": [
    "num=int (input (\"enter a number:\"))\n",
    "flag = False\n",
    "if num > 1:\n",
    "\n",
    "    for i in range(2, num):\n",
    "            if (num % i)== 0:\n",
    "                flag = True\n",
    "                break\n",
    "if flag:\n",
    "     print (num,\"is not a prime number\")\n",
    "else:\n",
    "      print (num,\"is a prime number\")"
   ]
  },
  {
   "cell_type": "code",
   "execution_count": null,
   "id": "7ad8d88f",
   "metadata": {},
   "outputs": [],
   "source": [
    "string is palindrome or not"
   ]
  },
  {
   "cell_type": "code",
   "execution_count": 3,
   "id": "8b883339",
   "metadata": {},
   "outputs": [
    {
     "name": "stdout",
     "output_type": "stream",
     "text": [
      "enter the string:madam\n",
      "Yes\n"
     ]
    }
   ],
   "source": [
    "def isPalindrome(str):\n",
    "    for i in range(0, int(len(str)/2)):\n",
    "        if str[i] != str[len(str)-i-1]:\n",
    "            return False\n",
    "    return True\n",
    "s = input(str(\"enter the string:\"))\n",
    "ans = isPalindrome(s)\n",
    "\n",
    "if (ans):\n",
    "    print(\"Yes\")\n",
    "else:\n",
    "    print(\"No\")"
   ]
  },
  {
   "cell_type": "code",
   "execution_count": null,
   "id": "08e30f6e",
   "metadata": {},
   "outputs": [],
   "source": [
    " third side of right-angled triangle from two given sides"
   ]
  },
  {
   "cell_type": "code",
   "execution_count": 5,
   "id": "806afa87",
   "metadata": {},
   "outputs": [
    {
     "name": "stdout",
     "output_type": "stream",
     "text": [
      "Enter base: 10.5\n",
      "Enter height: 6.5\n",
      "Hypotenuse = 12.349089035228468\n"
     ]
    }
   ],
   "source": [
    "import math\n",
    "\n",
    "a = float(input(\"Enter base: \"))\n",
    "b = float(input(\"Enter height: \"))\n",
    "\n",
    "c = math.sqrt(a ** 2 + b ** 2)\n",
    "\n",
    "print(\"Hypotenuse =\", c)"
   ]
  },
  {
   "cell_type": "code",
   "execution_count": 14,
   "id": "bba05c6f",
   "metadata": {},
   "outputs": [
    {
     "name": "stdout",
     "output_type": "stream",
     "text": [
      "enter a number1:8\n",
      "enter a number2:9\n",
      "12.041594578792296\n"
     ]
    }
   ],
   "source": [
    "def findHypotenuse(side1, side2):\n",
    " \n",
    "    h = (((side1 * side1) + (side2 * side2))**(1/2))\n",
    "    return h\n",
    " \n",
    "\n",
    "side1 = int(input(\"enter a number1:\"))\n",
    "side2 = int(input(\"enter a number2:\"))\n",
    " \n",
    "print(findHypotenuse(side1, side2))"
   ]
  },
  {
   "cell_type": "code",
   "execution_count": null,
   "id": "b8a3f473",
   "metadata": {},
   "outputs": [],
   "source": [
    " frequency of each of the characters present in a given string"
   ]
  },
  {
   "cell_type": "code",
   "execution_count": null,
   "id": "9c0f97fb",
   "metadata": {},
   "outputs": [],
   "source": [
    "from collections import Counter\n",
    " \n",
    "def freq(string):\n",
    " \n",
    "    \n",
    "    d = Counter(string)\n",
    " \n",
    "   \n",
    "    for i in d:\n",
    "        print(i+str(d[i]), end=\" \")\n",
    " \n",
    " \n",
    "string = \"divyaashvin\"\n",
    "freq(string)"
   ]
  },
  {
   "cell_type": "code",
   "execution_count": null,
   "id": "0bf865fd",
   "metadata": {},
   "outputs": [],
   "source": []
  },
  {
   "cell_type": "code",
   "execution_count": null,
   "id": "fce036ed",
   "metadata": {},
   "outputs": [],
   "source": []
  }
 ],
 "metadata": {
  "kernelspec": {
   "display_name": "Python 3",
   "language": "python",
   "name": "python3"
  },
  "language_info": {
   "codemirror_mode": {
    "name": "ipython",
    "version": 3
   },
   "file_extension": ".py",
   "mimetype": "text/x-python",
   "name": "python",
   "nbconvert_exporter": "python",
   "pygments_lexer": "ipython3",
   "version": "3.8.8"
  }
 },
 "nbformat": 4,
 "nbformat_minor": 5
}
